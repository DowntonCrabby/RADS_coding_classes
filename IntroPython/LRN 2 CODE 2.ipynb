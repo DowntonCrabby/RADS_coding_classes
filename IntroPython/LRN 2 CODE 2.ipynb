{
 "cells": [
  {
   "cell_type": "code",
   "execution_count": null,
   "metadata": {},
   "outputs": [],
   "source": [
    "#EXAMPLE 1:\n",
    "favorite_number = 3\n",
    "informative_string = \"My favorite number is\"\n",
    "fav_num_string = \"3\"\n",
    "random_decimal = 2.1322\n",
    "sum = favorite_number + random_decimal\n",
    "#print(sum)\n",
    "#sentence = informative_string + fav_num_string\n",
    "#print(sentence)\n",
    "#better_sentence = informative_string + \" \" + fav_num_string\n",
    "#print(better_sentence)\n",
    "#broken_sentence = informative_string + favorite_number\n",
    "#print(broken_sentence)\n",
    "#print(favorite_number = fav_num_string)\n",
    "#fixed_sentence = informative_string + \" \" + str(favorite_number)\n",
    "#print(fixed_sentence)"
   ]
  },
  {
   "cell_type": "code",
   "execution_count": null,
   "metadata": {
    "scrolled": true
   },
   "outputs": [],
   "source": [
    "#Example 2\n",
    "\n",
    "print('Hello World!')\n",
    "#ask for help\n",
    "help()\n",
    "#simple math\n",
    "math = 123+456\n",
    "#now get the results you were looking for!\n",
    "print(math) #shows you the contents of the \"math\" variable\n",
    "#Now find out what \"type\" the \"math\" variable is!\n",
    "print(type(math))"
   ]
  },
  {
   "cell_type": "code",
   "execution_count": null,
   "metadata": {},
   "outputs": [],
   "source": [
    "#you can print all kinds of things\n",
    "\n",
    "print('string')\n",
    "print('string' + 'stronk') #use a plus sign to print two things together\n",
    "#note that, above, the space isn't automatic! For fun, how would you include the space?\n",
    "\n",
    "print('string' + math) #uh oh...this won't work because:\n",
    "print(type('string')) #this is ??\n",
    "print(type(math)) #and this is ??! How do we fix it?"
   ]
  },
  {
   "cell_type": "code",
   "execution_count": null,
   "metadata": {},
   "outputs": [],
   "source": [
    "#Do your practice here!"
   ]
  },
  {
   "cell_type": "code",
   "execution_count": null,
   "metadata": {},
   "outputs": [],
   "source": [
    "#casting\n",
    "\n",
    "#let's say we want math to be a float now...\n",
    "float_math = float(math)\n",
    "print(type(float_math))\n",
    "#how about a string now?\n",
    "string_math = str(math) # or str(float_math), if you want\n",
    "print(type(string_math))\n",
    "#now can we try to do what we were trying to print before again?\n",
    "print('string' + math)"
   ]
  },
  {
   "cell_type": "code",
   "execution_count": null,
   "metadata": {},
   "outputs": [],
   "source": [
    "#some basic math\n",
    "add = 5+7\n",
    "sub = 10-99\n",
    "mult = 9*13\n",
    "div = 8/3 #try dividing by zero!\n",
    "exponent = 2**3\n",
    "modulo = 4%16 #try 4%20 to see what happens!\n",
    "greater = 7 > 1\n",
    "less = -2 < 99"
   ]
  },
  {
   "cell_type": "code",
   "execution_count": null,
   "metadata": {},
   "outputs": [],
   "source": [
    "#PEMDAS is not default in python!\n",
    "print(2+1*10-5)\n",
    "print((2+1) * (10-5))"
   ]
  },
  {
   "cell_type": "code",
   "execution_count": null,
   "metadata": {},
   "outputs": [],
   "source": [
    "#exercise:\n"
   ]
  },
  {
   "cell_type": "code",
   "execution_count": null,
   "metadata": {},
   "outputs": [],
   "source": [
    "#IF EXAMPLE:\n",
    "math_problem_one = (55+72)*9\n",
    "math_problem_two = 55+72 * 9\n",
    "if math_problem_one == math_problem_two:\n",
    "    print(\"both answers are the same\")\n",
    "elif math_problem_one < math_problem_two:\n",
    "    print(\"second answer is larger\")\n",
    "else:\n",
    "    print(\"first answer is larger\")"
   ]
  },
  {
   "cell_type": "code",
   "execution_count": null,
   "metadata": {},
   "outputs": [],
   "source": [
    "#FOR LOOP EXAMPLE:\n",
    "data_processing_options = [\"Segment cell masks from each experiment’s 2-photon fluorescence video\", \"Associate cells from experiments belonging to the same experiment container and assign unique IDs\",\n",
    "                \"Extract each cell’s mean fluorescence trace\", \"Extract mean fluorescence traces from each cell’s surrounding neuropil\", \n",
    "                \"Demix traces from overlapping ROIs\", \"Estimate neuropil-corrected fluorescence traces\", \"Compute dF/F\", \n",
    "                \"Compute stimulus-specific tuning metrics\"]\n",
    "print(\"For all data in Allen Brain Observatory, we perform the following processing:\")\n",
    "line_num = 0\n",
    "for option in data_processing_options: #for each item in the list of strings. We're doing a trick here and naming the variable for the item \n",
    "    #we're curious about at the same time as creating the for loop iterating over that item\n",
    "    line_num = line_num+1 #this increments n within each loop\n",
    "    str_num = str(line_num) #this converts n into a string so it can join with the option string\n",
    "    seq = [str_n, option] #this is the list which the join function will combine\n",
    "    print(\".\".join(seq)) #rather than store the sequence as a variable, since we just want to look at it once, we're printing it"
   ]
  },
  {
   "cell_type": "code",
   "execution_count": null,
   "metadata": {},
   "outputs": [],
   "source": [
    "#WHILE EXAMPLE:\n",
    "start_num = 0\n",
    "while start_num < 10:\n",
    "    start_num = start_num + 1\n",
    "    print(start_num)"
   ]
  },
  {
   "cell_type": "code",
   "execution_count": 33,
   "metadata": {},
   "outputs": [],
   "source": [
    "#PROBLEM 3: THE CASE OF THE TWO EXPERIMENTS\n",
    "#Each experiment contains 5 sets of the following information (one set per expected result):\n",
    "#Unique ID (should be identical for all results within a single experiment but different across experiments)\n",
    "#Batch Number (one primary value with 5 subvalues (e.g. 12345.01, 12345.02, ...), each subvalue unique for each result)\n",
    "#Process ID (value that identifies the process done to generate each result, should be the same across experiments and results)\n",
    "#Rig ID (should be identical for all results within a single experiment but different across experiments)\n",
    "#Experimental Parameters (floats that describe process ID)\n",
    "#Result (value between 1 and 5, all results across all experiments should be identical!)\n",
    "\n",
    "#Your task - figure out which sub-experiments have errors by UID and print out what they are! \n",
    "#Hint: Break it down into steps and work on checking through one sub experiment, then use control flow for the rest\n",
    "exp_1_data = ['E01.10.19.21.0', '9118342.7791', 'P81.1.1', 's01', '7.348', '1','E01.10.19.21.1', '9118342.7792', 'P81.1.1', 's01', '7.348', '1','E01.10.19.21.2', '9118342.7793', 'P81.1.1', 's02', '7.348', '2','E01.10.19.21.3', '9118342.7794', 'P81.1.1', 's01', '7.348', '1','E01.10.19.21.4', '9118342.7795', 'P81.1.1', 's01', '7.348', '1']\n",
    "exp_2_data = ['E02.10.21.21.0', '9118342.7796', 'P81.1.1', 's01', '7.348', '1','E02.10.21.21.1', '9118342.7797', 'P81.1.1', 's02', '7.348', '2','E02.10.21.21.1', '9118342.7798', 'P81.1.1', 's02', '7.348', '2','E02.10.21.21.3', '9118342.7799', 'P81.1.1', 's02', '7.348', '1','E02.10.21.21.4', '9118342.7800', 'P81.2.1', 's02', '8.671', '5']\n",
    "#BONUS TASK: REPLACE THE INCORRECT INFORMATION WITH CORRECTED INFORMATION SO A NEW EXPERIMENT CAN BE RUN!"
   ]
  },
  {
   "cell_type": "code",
   "execution_count": null,
   "metadata": {},
   "outputs": [],
   "source": [
    "#BONUS PRACTICE PROBLEM: examining fake data\n",
    "data_points_449441 = [1,0,2,3,1,8,17,1,5,2,8,2,0,13,17,12,14,16,18,13,8,10,19,1,16,18,14,17,18,13,19,14]\n",
    "#Animal 449441 has completed several weeks of data collection, and we want to update a report on this animal's success. \n",
    "# Each number is the number of trials the animal got correct per behavior session. For this data set, let's assume that each \n",
    "# session contains 20 total trials. If the animal gets at least 75% of the trials correct, the session is a success. \n",
    "animal_report = \"449441 succeeded in 0 trials and failed 0 trials.\"\n",
    "#For each session the animal ran, check whether it succeeded or failed, and change the animal report string\n",
    "#to reflect the animal's current status! HINT: converting an int into a string is done with the function str(int)\n",
    "#Example: \n",
    "#answer = 42. \n",
    "#stringified_answer = str(answer)\n",
    "#Bonus points - did the animal succeed in more trials than it failed?\n",
    "#LET ME KNOW IF YOU NEED A HINT!!!! :) "
   ]
  }
 ],
 "metadata": {
  "kernelspec": {
   "display_name": "Python 3",
   "language": "python",
   "name": "python3"
  },
  "language_info": {
   "codemirror_mode": {
    "name": "ipython",
    "version": 3
   },
   "file_extension": ".py",
   "mimetype": "text/x-python",
   "name": "python",
   "nbconvert_exporter": "python",
   "pygments_lexer": "ipython3",
   "version": "3.7.9"
  }
 },
 "nbformat": 4,
 "nbformat_minor": 2
}
