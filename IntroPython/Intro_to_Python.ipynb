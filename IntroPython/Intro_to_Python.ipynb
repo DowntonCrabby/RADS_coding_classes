{
 "cells": [
  {
   "cell_type": "markdown",
   "metadata": {},
   "source": [
    "### Let's get started!\n",
    "\n",
    "Here's a few examples to get comfortable with the jupyter notebook format, and with the idea of coding in general. Try to follow along!"
   ]
  },
  {
   "cell_type": "code",
   "execution_count": null,
   "metadata": {},
   "outputs": [],
   "source": [
    "#first example\n",
    "print('Hello World!')"
   ]
  },
  {
   "cell_type": "code",
   "execution_count": null,
   "metadata": {},
   "outputs": [],
   "source": [
    "#ask for help\n",
    "help()"
   ]
  },
  {
   "cell_type": "code",
   "execution_count": null,
   "metadata": {},
   "outputs": [],
   "source": [
    "#simple math\n",
    "math = 123+456\n",
    "print(math)"
   ]
  },
  {
   "cell_type": "markdown",
   "metadata": {},
   "source": [
    "### Data types example "
   ]
  },
  {
   "cell_type": "code",
   "execution_count": null,
   "metadata": {},
   "outputs": [],
   "source": [
    "favorite_number = 3\n",
    "informative_string = \"My favorite number is\"\n",
    "fav_num_string = \"3\"\n",
    "random_decimal = 2.1322\n",
    "sum = favorite_number + random_decimal\n",
    "print(sum)"
   ]
  },
  {
   "cell_type": "code",
   "execution_count": null,
   "metadata": {},
   "outputs": [],
   "source": [
    "sentence = informative_string + fav_num_string\n",
    "print(sentence)"
   ]
  },
  {
   "cell_type": "code",
   "execution_count": null,
   "metadata": {},
   "outputs": [],
   "source": [
    "better_sentence = informative_string + \" \" + fav_num_string\n",
    "print(better_sentence)"
   ]
  },
  {
   "cell_type": "code",
   "execution_count": null,
   "metadata": {},
   "outputs": [],
   "source": [
    "broken_sentence = informative_string + favorite_number\n",
    "print(broken_sentence)"
   ]
  },
  {
   "cell_type": "code",
   "execution_count": null,
   "metadata": {},
   "outputs": [],
   "source": [
    "print(favorite_number = fav_num_string)"
   ]
  },
  {
   "cell_type": "code",
   "execution_count": null,
   "metadata": {},
   "outputs": [],
   "source": [
    "fixed_sentence = informative_string + \" \" + str(favorite_number)\n",
    "print(fixed_sentence)"
   ]
  },
  {
   "cell_type": "markdown",
   "metadata": {},
   "source": [
    "### Practice Problem 1 - Enter your code in the empty cell below!\n",
    "1. Solve and save the result of 23 time 71 as a variable \n",
    "2. Now solve and save the result of 6 to the power of 3 as another, differently named variable\n",
    "3. Finally, check if the second result is greater than the first result and print the final answer!!"
   ]
  },
  {
   "cell_type": "code",
   "execution_count": 10,
   "metadata": {},
   "outputs": [],
   "source": [
    "#Practice problem 1 workspace\n",
    "\n"
   ]
  },
  {
   "cell_type": "markdown",
   "metadata": {},
   "source": [
    "### Basics of function definitions"
   ]
  },
  {
   "cell_type": "code",
   "execution_count": 2,
   "metadata": {},
   "outputs": [],
   "source": [
    "#first we define the function as follows\n",
    "def simple_function(parameter): \n",
    "    print(parameter) #does this print on its own?"
   ]
  },
  {
   "cell_type": "code",
   "execution_count": null,
   "metadata": {},
   "outputs": [],
   "source": [
    "#once we've run the function, now we can \"call\" it\n",
    "test = simple_function('hello world!') \n",
    "#does the above print on its own? "
   ]
  },
  {
   "cell_type": "code",
   "execution_count": null,
   "metadata": {},
   "outputs": [],
   "source": [
    "#What if you don't save it as a variable?\n",
    "print(test)"
   ]
  },
  {
   "cell_type": "markdown",
   "metadata": {},
   "source": [
    "### Casting\n",
    "\n",
    "Change the type of whatever you're working with into another type!"
   ]
  },
  {
   "cell_type": "code",
   "execution_count": null,
   "metadata": {},
   "outputs": [],
   "source": [
    "mystring = 'xyzabc'\n",
    "list(mystring)"
   ]
  },
  {
   "cell_type": "code",
   "execution_count": null,
   "metadata": {},
   "outputs": [],
   "source": [
    "my_list = [1, 2, 3, 4, 5]\n",
    "str(my_list)"
   ]
  },
  {
   "cell_type": "code",
   "execution_count": null,
   "metadata": {},
   "outputs": [],
   "source": [
    "my_number = 5\n",
    "float(my_number)"
   ]
  },
  {
   "cell_type": "markdown",
   "metadata": {},
   "source": [
    "### Using more common built in functions \n",
    "Built in functions come in many other flavors than just one ones seen above!"
   ]
  },
  {
   "cell_type": "markdown",
   "metadata": {},
   "source": [
    "Printing!"
   ]
  },
  {
   "cell_type": "code",
   "execution_count": null,
   "metadata": {},
   "outputs": [],
   "source": [
    "print('xyzabc')"
   ]
  },
  {
   "cell_type": "code",
   "execution_count": null,
   "metadata": {},
   "outputs": [],
   "source": [
    "my_list = [1, 2, 3, 4, 5]\n",
    "print(mylist) "
   ]
  },
  {
   "cell_type": "code",
   "execution_count": null,
   "metadata": {},
   "outputs": [],
   "source": [
    "my_dict = {'name': 'Emily',  'workplace': 'Allen Institute'}\n",
    "print(my_dict)\n",
    "#how do I learn more about working with dicts? "
   ]
  },
  {
   "cell_type": "markdown",
   "metadata": {},
   "source": [
    "type() - Get the type of an object"
   ]
  },
  {
   "cell_type": "code",
   "execution_count": null,
   "metadata": {},
   "outputs": [],
   "source": [
    "type('xyzabc')"
   ]
  },
  {
   "cell_type": "code",
   "execution_count": null,
   "metadata": {},
   "outputs": [],
   "source": [
    "type(my_list)"
   ]
  },
  {
   "cell_type": "code",
   "execution_count": null,
   "metadata": {},
   "outputs": [],
   "source": [
    "type(my_dict)"
   ]
  },
  {
   "cell_type": "markdown",
   "metadata": {},
   "source": [
    "len() - Get the length of an object"
   ]
  },
  {
   "cell_type": "code",
   "execution_count": null,
   "metadata": {},
   "outputs": [],
   "source": [
    "my_string = 'abcdefg'\n",
    "len(mystring)"
   ]
  },
  {
   "cell_type": "code",
   "execution_count": null,
   "metadata": {},
   "outputs": [],
   "source": [
    "len(my_list)"
   ]
  },
  {
   "cell_type": "code",
   "execution_count": null,
   "metadata": {},
   "outputs": [],
   "source": [
    "len(my_dict) #were you surprised by this answer?"
   ]
  },
  {
   "cell_type": "markdown",
   "metadata": {},
   "source": [
    "max() - get the maximum value of an object\n",
    "(usually used most with lists of ints)"
   ]
  },
  {
   "cell_type": "code",
   "execution_count": null,
   "metadata": {},
   "outputs": [],
   "source": [
    "max(my_string)"
   ]
  },
  {
   "cell_type": "code",
   "execution_count": null,
   "metadata": {},
   "outputs": [],
   "source": [
    "max(my_list)"
   ]
  },
  {
   "cell_type": "code",
   "execution_count": null,
   "metadata": {},
   "outputs": [],
   "source": [
    "max(my_dict)"
   ]
  },
  {
   "cell_type": "markdown",
   "metadata": {},
   "source": [
    "sum() - get the sum of a collection of numbers"
   ]
  },
  {
   "cell_type": "code",
   "execution_count": null,
   "metadata": {},
   "outputs": [],
   "source": [
    "sum(my_list)"
   ]
  },
  {
   "cell_type": "code",
   "execution_count": null,
   "metadata": {},
   "outputs": [],
   "source": [
    "my_set = (3.14, 2.71)\n",
    "sum(my_set)"
   ]
  },
  {
   "cell_type": "markdown",
   "metadata": {},
   "source": [
    "### Can we solve exercise 1 together?\n",
    "Representing decision trees in python code using if/else statements"
   ]
  },
  {
   "cell_type": "markdown",
   "metadata": {},
   "source": [
    "here is some data that will help us figure out which cell type this neuron is:"
   ]
  },
  {
   "cell_type": "code",
   "execution_count": 52,
   "metadata": {},
   "outputs": [],
   "source": [
    "# number of presynaptic sites on this neuron\n",
    "num_presyn = 79 \n",
    "\n",
    "# number of postsynaptic sites on this neuron\n",
    "num_postsyn = 805 \n",
    "\n",
    "# angle of the longest branch \n",
    "apical_angle = 7.928 \n",
    "\n",
    "#lengths of each branch in our neuron\n",
    "branch_lengths = [ 7, 39,  2, 48, 40, 38,  6, 16, 18, 49, 32, 10, 52, 22,  1, 13, 16,\n",
    "        46, 18, 15,  3, 32, 28, 27, 49, 37, 16, 49, 38, 48,  8,  3, 10,  4,\n",
    "        3,  9, 45,  9,  41,  9,  2,  1,  3, 21,  5, 24, 35, 47, 13, 18, 16,\n",
    "       11,  43, 24, 10, 41, 32, 43, 33, 24, 25, 34, 38, 53, 28, 32,  41,  5,\n",
    "        49, 38, 32,  18, 33,  7, 27, 26, 40, 26, 33, 16, 41,  4, 14,  35, 25,\n",
    "       22, 39, 14, 20, 21, 10,  5, 43, 42, 25, 48, 38, 32, 18, 41] \n"
   ]
  },
  {
   "cell_type": "markdown",
   "metadata": {},
   "source": [
    "Now we can go through the decision tree step by step"
   ]
  },
  {
   "cell_type": "markdown",
   "metadata": {},
   "source": [
    "#### Step 1: Does the neuron have more than 1000 total synapses?\n",
    "- we can find the total number of synapses our neuron has by adding the presynaptic and postsynaptic numbers together!"
   ]
  },
  {
   "cell_type": "code",
   "execution_count": 50,
   "metadata": {},
   "outputs": [],
   "source": [
    "# save your answer under the variable name num_synapses\n",
    "num_synapses = # put your equation here!"
   ]
  },
  {
   "cell_type": "code",
   "execution_count": 51,
   "metadata": {},
   "outputs": [
    {
     "name": "stdout",
     "output_type": "stream",
     "text": [
      "884\n"
     ]
    }
   ],
   "source": [
    "print(num_synapses)"
   ]
  },
  {
   "cell_type": "markdown",
   "metadata": {},
   "source": [
    "#### Step 2: Is the length of the longest branch less than 50?\n",
    "- the list is a little long to go through manually, so we can use one of the built-in functions from earlier! "
   ]
  },
  {
   "cell_type": "code",
   "execution_count": 34,
   "metadata": {},
   "outputs": [],
   "source": [
    "# save your answer under the variable name longest_branch\n",
    "longest_branch = "
   ]
  },
  {
   "cell_type": "code",
   "execution_count": 35,
   "metadata": {},
   "outputs": [
    {
     "name": "stdout",
     "output_type": "stream",
     "text": [
      "53\n"
     ]
    }
   ],
   "source": [
    "print(longest_branch)"
   ]
  },
  {
   "cell_type": "markdown",
   "metadata": {},
   "source": [
    "#### Step 3: Are the total number of branches more than 125?\n",
    "- We can use branch_lengths for this as well!\n",
    "- branch_lengths represents the length of each branch in our neuron\n",
    "- so, if we know the length of branch_lenghts, we will know the total number of branches in our neuron"
   ]
  },
  {
   "cell_type": "code",
   "execution_count": 45,
   "metadata": {},
   "outputs": [],
   "source": [
    "# save your answer under the variable name num_branches\n",
    "num_branches = "
   ]
  },
  {
   "cell_type": "code",
   "execution_count": 46,
   "metadata": {},
   "outputs": [
    {
     "name": "stdout",
     "output_type": "stream",
     "text": [
      "100\n"
     ]
    }
   ],
   "source": [
    "print(num_branches)"
   ]
  },
  {
   "cell_type": "markdown",
   "metadata": {},
   "source": [
    "#### Step 4: Is the average branch length less than 25?\n",
    "- uh oh - average/mean is not a built in function in python!\n",
    "- that's ok - we can get the mean using other built in functions!    \n",
    "\n",
    "##### mean branch length = (sum of all branch lengths) ÷ (number of branches)\n",
    "- we already have the number of branches from step 3 - it is saved under teh variable num_branches\n",
    "- we just need to find the sum of all the lengths in branch_lenghts! We can do that with another built in function from earlier! "
   ]
  },
  {
   "cell_type": "code",
   "execution_count": 55,
   "metadata": {},
   "outputs": [],
   "source": [
    "# save your answer under the variable name average_branch_length\n",
    "average_branch_length = "
   ]
  },
  {
   "cell_type": "code",
   "execution_count": 56,
   "metadata": {},
   "outputs": [
    {
     "name": "stdout",
     "output_type": "stream",
     "text": [
      "25.4\n"
     ]
    }
   ],
   "source": [
    "print(average_branch_length)"
   ]
  },
  {
   "cell_type": "markdown",
   "metadata": {},
   "source": [
    "Let's make it more powerful with a for loop!"
   ]
  },
  {
   "cell_type": "code",
   "execution_count": 59,
   "metadata": {},
   "outputs": [
    {
     "name": "stdout",
     "output_type": "stream",
     "text": [
      "cell_type = Type G\n"
     ]
    }
   ],
   "source": [
    "if num_synapses > 1000:\n",
    "    \n",
    "    if num_synapses > 1500:\n",
    "        print('cell_type = Type A')\n",
    "\n",
    "    else: \n",
    "        if apical_angle > 5:\n",
    "            print('cell_type = Type C')\n",
    "        else:\n",
    "            print('cell_type = Type D')\n",
    "\n",
    "else:\n",
    "    \n",
    "    if longest_branch > 50:\n",
    "\n",
    "        if num_branches < 125:\n",
    "            if average_branch_length < 25:\n",
    "                print('cell_type = Type F')\n",
    "            else:\n",
    "                print('cell_type = Type G')\n",
    "    \n",
    "        else:\n",
    "            print('cell_type = Type E')\n",
    "\n",
    "    else:\n",
    "        print('cell_type = Type B')"
   ]
  },
  {
   "cell_type": "markdown",
   "metadata": {},
   "source": [
    "### Solo problem 2: The case of the two experiments\n",
    "Each experiment contains 5 sets of the following information (one set per expected result):\n",
    "    - Unique ID (floats with experiment number as number before decimal and subexperiment number after (i.e. experimnt 5 subexperiment 1 would be 5.1. Should be unique for each experiment, and are good ways to delineate different sub experiments)\n",
    "    - Batch Number (Set up similarly to unique ID, but describes the tissue used in the experiment.)\n",
    "    - Process ID (value that identifies the process done to generate each result, should be the same across all experiments and results)\n",
    "    - Rig ID (should be r01 for the first set of sub experiments, and r02 for the second set of sub experiments)\n",
    "    - Experimental Parameters (floats that describe process ID, should be the same for each process ID)\n",
    "    - Result (value between 1 and 5, all results across all experiments were supposed be identical!)\n",
    "#### Your task - figure out which sub-experiments have errors by UID and print out what they are! \n",
    "Hint: Break it down into steps and write out what you think you need to do in English before starting to code. Can you check one experiment at a time, first? What patterns do you see, and how can control flow help you?"
   ]
  },
  {
   "cell_type": "code",
   "execution_count": 1,
   "metadata": {},
   "outputs": [],
   "source": [
    "exp_1_data = [1.1, 9118342.7791, 'P81.1.1', 'r01', 7.348, 1,1.2, 9118342.7792, 'P81.1.1', 'r01', 7.348, 1,1.3, 9118342.7793, 'P81.1.1', 'r02', 7.348, 2,1.4, 9118342.7794, 'P81.1.1', 'r01', 7.348, 1,1.5, 9118342.7795, 'P81.1.1', 'r01', 7.348, 1]\n",
    "exp_2_data = [2.1, 9118342.7796, 'P81.1.1', 'r01', 7.348, 1,2.2, 9118342.7797, 'P81.1.1', 'r02', 7.348, 2,2.3, 9118342.7798, 'P81.1.1', 'r02', 7.348, 2,2.4, 9118342.7799, 'P81.1.1', 'r02', 7.348, 1,2.5, 9118342.7800, 'P81.2.1', 'r02', 8.671, 5]"
   ]
  },
  {
   "cell_type": "code",
   "execution_count": null,
   "metadata": {},
   "outputs": [],
   "source": [
    "#Practice problem 2 workspace\n",
    "\n"
   ]
  }
 ],
 "metadata": {
  "kernelspec": {
   "display_name": "Python 3",
   "language": "python",
   "name": "python3"
  },
  "language_info": {
   "codemirror_mode": {
    "name": "ipython",
    "version": 3
   },
   "file_extension": ".py",
   "mimetype": "text/x-python",
   "name": "python",
   "nbconvert_exporter": "python",
   "pygments_lexer": "ipython3",
   "version": "3.7.9"
  }
 },
 "nbformat": 4,
 "nbformat_minor": 2
}
