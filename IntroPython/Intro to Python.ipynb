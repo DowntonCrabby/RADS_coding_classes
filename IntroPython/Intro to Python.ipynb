{
 "cells": [
  {
   "cell_type": "markdown",
   "metadata": {},
   "source": [
    "### Let's get started!\n",
    "\n",
    "Here's a few examples to get comfortable with the jupyter notebook format, and with the idea of coding in general. Try to follow along!"
   ]
  },
  {
   "cell_type": "code",
   "execution_count": null,
   "metadata": {},
   "outputs": [],
   "source": [
    "#first example\n",
    "print('Hello World!')"
   ]
  },
  {
   "cell_type": "code",
   "execution_count": null,
   "metadata": {},
   "outputs": [],
   "source": [
    "#ask for help\n",
    "help()"
   ]
  },
  {
   "cell_type": "code",
   "execution_count": null,
   "metadata": {
    "scrolled": true
   },
   "outputs": [],
   "source": [
    "#simple math\n",
    "math = 123+456\n",
    "print(math)"
   ]
  },
  {
   "cell_type": "markdown",
   "metadata": {},
   "source": [
    "### Data types example "
   ]
  },
  {
   "cell_type": "code",
   "execution_count": null,
   "metadata": {},
   "outputs": [],
   "source": [
    "favorite_number = 3\n",
    "informative_string = \"My favorite number is\"\n",
    "fav_num_string = \"3\"\n",
    "random_decimal = 2.1322\n",
    "sum = favorite_number + random_decimal\n",
    "print(sum)"
   ]
  },
  {
   "cell_type": "code",
   "execution_count": null,
   "metadata": {},
   "outputs": [],
   "source": [
    "sentence = informative_string + fav_num_string\n",
    "print(sentence)"
   ]
  },
  {
   "cell_type": "code",
   "execution_count": null,
   "metadata": {},
   "outputs": [],
   "source": [
    "better_sentence = informative_string + \" \" + fav_num_string\n",
    "print(better_sentence)"
   ]
  },
  {
   "cell_type": "code",
   "execution_count": null,
   "metadata": {},
   "outputs": [],
   "source": [
    "broken_sentence = informative_string + favorite_number\n",
    "print(broken_sentence)"
   ]
  },
  {
   "cell_type": "code",
   "execution_count": null,
   "metadata": {},
   "outputs": [],
   "source": [
    "print(favorite_number = fav_num_string)"
   ]
  },
  {
   "cell_type": "code",
   "execution_count": null,
   "metadata": {},
   "outputs": [],
   "source": [
    "fixed_sentence = informative_string + \" \" + str(favorite_number)\n",
    "print(fixed_sentence)"
   ]
  },
  {
   "attachments": {},
   "cell_type": "markdown",
   "metadata": {},
   "source": [
    "### Practice Problem 1 - Enter your code in the empty cell below!\n",
    "1. Solve and save the result of 23 time 71 as a variable \n",
    "2. Now solve and save the result of 6 to the power of 3 as another, differently named variable\n",
    "3. Finally, check if the second result is greater than the first result and print the final answer!!"
   ]
  },
  {
   "cell_type": "code",
   "execution_count": null,
   "metadata": {},
   "outputs": [],
   "source": [
    "#Practice problem 1 workspace\n",
    "\n"
   ]
  },
  {
   "cell_type": "markdown",
   "metadata": {},
   "source": [
    "### Basics of function definitions"
   ]
  },
  {
   "cell_type": "code",
   "execution_count": null,
   "metadata": {},
   "outputs": [],
   "source": [
    "#first we define the function as follows\n",
    "def simple_function(parameter): \n",
    "    print(parameter) #does this print on its own?"
   ]
  },
  {
   "cell_type": "code",
   "execution_count": null,
   "metadata": {},
   "outputs": [],
   "source": [
    "#once we've run the function, now we can \"call\" it\n",
    "test = simple_function(hello_world) \n",
    "#does the above print on its own? \n",
    "#What if you don't save it as a variable?\n",
    "print(test)"
   ]
  },
  {
   "cell_type": "markdown",
   "metadata": {},
   "source": [
    "### Casting\n",
    "\n",
    "Change the type of whatever you're working with into another type!"
   ]
  },
  {
   "cell_type": "code",
   "execution_count": null,
   "metadata": {},
   "outputs": [],
   "source": [
    "mystring = 'xyzabc'\n",
    "list(mystring)"
   ]
  },
  {
   "cell_type": "code",
   "execution_count": null,
   "metadata": {},
   "outputs": [],
   "source": [
    "my_list = [1, 2, 3, 4, 5]\n",
    "str(my_list)"
   ]
  },
  {
   "cell_type": "code",
   "execution_count": null,
   "metadata": {},
   "outputs": [],
   "source": [
    "my_number = 5\n",
    "float(my_number)"
   ]
  },
  {
   "cell_type": "markdown",
   "metadata": {},
   "source": [
    "### Using more common built in functions \n",
    "Built in functions come in many other flavors than just one ones seen above!"
   ]
  },
  {
   "cell_type": "markdown",
   "metadata": {},
   "source": [
    "Printing!"
   ]
  },
  {
   "cell_type": "code",
   "execution_count": null,
   "metadata": {},
   "outputs": [],
   "source": [
    "print('xyzabc')"
   ]
  },
  {
   "cell_type": "code",
   "execution_count": null,
   "metadata": {},
   "outputs": [],
   "source": [
    "mylist = [1, 2, 3, 4, 5]\n",
    "print(mylist) "
   ]
  },
  {
   "cell_type": "code",
   "execution_count": null,
   "metadata": {},
   "outputs": [],
   "source": [
    "my_dict = {'name': 'Emily',  'workplace': 'Allen Institute'}\n",
    "print(my_dict)\n",
    "#how do I learn more about working with dicts? "
   ]
  },
  {
   "cell_type": "markdown",
   "metadata": {},
   "source": [
    "type() - Get the type of an object"
   ]
  },
  {
   "cell_type": "code",
   "execution_count": null,
   "metadata": {},
   "outputs": [],
   "source": [
    "type('xyzabc')"
   ]
  },
  {
   "cell_type": "code",
   "execution_count": null,
   "metadata": {},
   "outputs": [],
   "source": [
    "type(my_list)"
   ]
  },
  {
   "cell_type": "code",
   "execution_count": null,
   "metadata": {},
   "outputs": [],
   "source": [
    "type(my_dict)"
   ]
  },
  {
   "cell_type": "markdown",
   "metadata": {},
   "source": [
    "len() - Get the length of an object"
   ]
  },
  {
   "cell_type": "code",
   "execution_count": null,
   "metadata": {},
   "outputs": [],
   "source": [
    "my_string = 'abcdefg'\n",
    "len(mystring)"
   ]
  },
  {
   "cell_type": "code",
   "execution_count": null,
   "metadata": {},
   "outputs": [],
   "source": [
    "len(my_list)"
   ]
  },
  {
   "cell_type": "code",
   "execution_count": null,
   "metadata": {},
   "outputs": [],
   "source": [
    "len(my_dict) #were you surprised by this answer?"
   ]
  },
  {
   "cell_type": "markdown",
   "metadata": {},
   "source": [
    "max() - get the maximum value of an object\n",
    "(usually used most with lists of ints)"
   ]
  },
  {
   "cell_type": "code",
   "execution_count": null,
   "metadata": {},
   "outputs": [],
   "source": [
    "max(my_string)"
   ]
  },
  {
   "cell_type": "code",
   "execution_count": null,
   "metadata": {},
   "outputs": [],
   "source": [
    "max(my_list)"
   ]
  },
  {
   "cell_type": "code",
   "execution_count": null,
   "metadata": {},
   "outputs": [],
   "source": [
    "max(my_dict)"
   ]
  },
  {
   "cell_type": "markdown",
   "metadata": {},
   "source": [
    "### Can we solve exercise 1 together?\n",
    "Representing decision trees in python code using if/else statements"
   ]
  },
  {
   "cell_type": "code",
   "execution_count": null,
   "metadata": {},
   "outputs": [],
   "source": [
    "#EMILY (JOYCE) PASTE HERE THANKS"
   ]
  },
  {
   "cell_type": "markdown",
   "metadata": {},
   "source": [
    "Let's make it more powerful with a for loop!"
   ]
  },
  {
   "cell_type": "code",
   "execution_count": null,
   "metadata": {},
   "outputs": [],
   "source": [
    "#EMILY (JOYCE) ALSO PASTE HERE DOUBLE THANKS"
   ]
  },
  {
   "cell_type": "markdown",
   "metadata": {},
   "source": [
    "### Solo problem 2: The case of the two experiments\n",
    "Each experiment contains 5 sets of the following information (one set per expected result):\n",
    "    - Unique ID (should be identical for all results within a single experiment but different across experiments)\n",
    "    - Batch Number (one primary value with 5 subvalues (e.g. 12345.01, 12345.02, ...), each subvalue unique for each result)\n",
    "    - Process ID (value that identifies the process done to generate each result, should be the same across experiments and results)\n",
    "    - Rig ID (should be identical for all results within a single experiment but different across experiments)\n",
    "    - Experimental Parameters (floats that describe process ID)\n",
    "    - Result (value between 1 and 5, all results across all experiments should be identical!)\n",
    "#### Your task - figure out which sub-experiments have errors by UID and print out what they are! \n",
    "Hint: Break it down into steps and work on checking through one sub experiment, then use control flow for the rest."
   ]
  },
  {
   "cell_type": "code",
   "execution_count": null,
   "metadata": {},
   "outputs": [],
   "source": [
    "exp_1_data = ['E01.10.19.21.0', '9118342.7791', 'P81.1.1', 's01', '7.348', '1','E01.10.19.21.1', '9118342.7792', 'P81.1.1', 's01', '7.348', '1','E01.10.19.21.2', '9118342.7793', 'P81.1.1', 's02', '7.348', '2','E01.10.19.21.3', '9118342.7794', 'P81.1.1', 's01', '7.348', '1','E01.10.19.21.4', '9118342.7795', 'P81.1.1', 's01', '7.348', '1']\n",
    "exp_2_data = ['E02.10.21.21.0', '9118342.7796', 'P81.1.1', 's01', '7.348', '1','E02.10.21.21.1', '9118342.7797', 'P81.1.1', 's02', '7.348', '2','E02.10.21.21.1', '9118342.7798', 'P81.1.1', 's02', '7.348', '2','E02.10.21.21.3', '9118342.7799', 'P81.1.1', 's02', '7.348', '1','E02.10.21.21.4', '9118342.7800', 'P81.2.1', 's02', '8.671', '5']"
   ]
  },
  {
   "cell_type": "code",
   "execution_count": null,
   "metadata": {},
   "outputs": [],
   "source": [
    "#Practice problem 2 workspace\n",
    "\n"
   ]
  }
 ],
 "metadata": {
  "kernelspec": {
   "display_name": "Python 3",
   "language": "python",
   "name": "python3"
  },
  "language_info": {
   "codemirror_mode": {
    "name": "ipython",
    "version": 3
   },
   "file_extension": ".py",
   "mimetype": "text/x-python",
   "name": "python",
   "nbconvert_exporter": "python",
   "pygments_lexer": "ipython3",
   "version": "3.7.9"
  }
 },
 "nbformat": 4,
 "nbformat_minor": 2
}
